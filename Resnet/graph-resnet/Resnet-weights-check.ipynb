{
 "cells": [
  {
   "cell_type": "markdown",
   "id": "643280dd-e149-4310-9580-0d2335f399aa",
   "metadata": {},
   "source": [
    "## AU-Graph"
   ]
  },
  {
   "cell_type": "markdown",
   "id": "81479d5b-0957-4ca0-9848-10fe8deb9df7",
   "metadata": {},
   "source": [
    "### 加载模型"
   ]
  },
  {
   "cell_type": "code",
   "execution_count": 1,
   "id": "70bf07a4-bb2b-431b-9e48-09a3d5c5f758",
   "metadata": {},
   "outputs": [
    {
     "name": "stderr",
     "output_type": "stream",
     "text": [
      "/usr/local/lib/python3.8/dist-packages/tqdm/auto.py:22: TqdmWarning: IProgress not found. Please update jupyter and ipywidgets. See https://ipywidgets.readthedocs.io/en/stable/user_install.html\n",
      "  from .autonotebook import tqdm as notebook_tqdm\n"
     ]
    }
   ],
   "source": [
    "import scipy.io as scio\n",
    "import torch\n",
    "import torch.nn as nn\n",
    "import os\n",
    "from scipy.stats import pearsonr\n",
    "from torch.utils.data import Dataset, DataLoader\n",
    "import matplotlib.pyplot as plt\n",
    "import os\n",
    "import pandas as pd\n",
    "from dgl.nn.pytorch import GraphConv, GATConv\n",
    "import numpy as np\n",
    "import dgl\n",
    "from nets.molecules_graph_regression.gat_net import GATNet\n",
    "import datetime\n",
    "from os.path import join as pjoin\n",
    "import sys\n",
    "\n",
    "sys.path.append('..')\n",
    "\n",
    "from Preprocess.util_ccc import concordance_correlation_coefficient\n",
    "from Preprocess.sending_email import sendEmail\n",
    "\n"
   ]
  },
  {
   "cell_type": "code",
   "execution_count": 2,
   "id": "adb1f8cb-0480-45e7-93c3-0dede2de4573",
   "metadata": {},
   "outputs": [],
   "source": [
    "net_params = {\n",
    "    'num_atom_type': 48,\n",
    "    'num_bond_type': 2,\n",
    "    'hidden_dim': 8,  ## 10-》exp2\n",
    "    'out_dim': 4,\n",
    "    'L': 1,\n",
    "    'readout': 'mean',\n",
    "    'residual': False,\n",
    "    'edge_feat': True,\n",
    "    'device': 'cpu',\n",
    "    'pos_enc': False,\n",
    "    # 'pos_enc_dim':72,\n",
    "    'batch_norm': True,\n",
    "    'layer_type': 'edgereprfeat',\n",
    "    'in_feat_dropout': 0.0,\n",
    "    'dropout': 0.0,\n",
    "    'n_heads': 4\n",
    "}"
   ]
  },
  {
   "cell_type": "code",
   "execution_count": 3,
   "id": "ebaac567-7479-416a-97e8-875fc24196b0",
   "metadata": {},
   "outputs": [],
   "source": [
    "model = GATNet(net_params)"
   ]
  },
  {
   "cell_type": "markdown",
   "id": "3707c975-bddd-476d-a55c-1e25077b9505",
   "metadata": {},
   "source": [
    "### 读取权重"
   ]
  },
  {
   "cell_type": "code",
   "execution_count": 4,
   "id": "012d6015-bde2-4d90-9068-00ffb2b4e44c",
   "metadata": {},
   "outputs": [
    {
     "data": {
      "text/plain": [
       "<All keys matched successfully>"
      ]
     },
     "execution_count": 4,
     "metadata": {},
     "output_type": "execute_result"
    }
   ],
   "source": [
    "model.load_state_dict(torch.load(\"/hy-tmp/AU/graph-au/Epcoh_241_Rmse_5.9919352531433105_PCC_0.4182639675829058_CCC_0.38060020903665065.pth\"))"
   ]
  },
  {
   "cell_type": "code",
   "execution_count": null,
   "id": "2f5bcbe8-5b45-4848-903d-ef9e60e4199f",
   "metadata": {},
   "outputs": [],
   "source": []
  }
 ],
 "metadata": {
  "kernelspec": {
   "display_name": "Python 3 (ipykernel)",
   "language": "python",
   "name": "python3"
  },
  "language_info": {
   "codemirror_mode": {
    "name": "ipython",
    "version": 3
   },
   "file_extension": ".py",
   "mimetype": "text/x-python",
   "name": "python",
   "nbconvert_exporter": "python",
   "pygments_lexer": "ipython3",
   "version": "3.8.10"
  }
 },
 "nbformat": 4,
 "nbformat_minor": 5
}
