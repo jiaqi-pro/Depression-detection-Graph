{
 "cells": [
  {
   "cell_type": "code",
   "execution_count": 1,
   "id": "47016130-da94-4b68-a32a-47ff2f01144d",
   "metadata": {},
   "outputs": [],
   "source": [
    "## fusion the train and valid dataset"
   ]
  },
  {
   "cell_type": "code",
   "execution_count": 2,
   "id": "cef4deac-95a7-4821-a437-8c682ca1788a",
   "metadata": {},
   "outputs": [],
   "source": [
    "train_file = '../../train_data.txt'\n",
    "\n",
    "valid_file = '../../valid_data.txt'"
   ]
  },
  {
   "cell_type": "code",
   "execution_count": 7,
   "id": "eff1bd56-be91-499b-97a7-99549625075c",
   "metadata": {},
   "outputs": [],
   "source": [
    "train_data = []\n",
    "\n",
    "train_txt = open(train_file)\n",
    "\n",
    "for i in train_txt.readlines():\n",
    "    train_data.append(i.rstrip('\\n'))"
   ]
  },
  {
   "cell_type": "code",
   "execution_count": 9,
   "id": "02a3dde0-996d-4e86-821a-a74914222b4f",
   "metadata": {},
   "outputs": [],
   "source": [
    "valid_data = []\n",
    "\n",
    "valid_txt = open(valid_file)\n",
    "\n",
    "for i in valid_txt.readlines():\n",
    "    valid_data.append(i.rstrip('\\n'))\n"
   ]
  },
  {
   "cell_type": "code",
   "execution_count": 11,
   "id": "f2fdf7ad-c16a-42e0-bf60-dd3576b7a8c1",
   "metadata": {},
   "outputs": [],
   "source": [
    "total_data = []\n",
    "total_data.extend(train_data)\n",
    "total_data.extend(valid_data)"
   ]
  },
  {
   "cell_type": "code",
   "execution_count": 14,
   "id": "f3eeaaaa-a8a4-4311-8e55-8c37947cdadc",
   "metadata": {},
   "outputs": [],
   "source": [
    "total_txt = '../../train_valid.txt'\n",
    "total_file = open(total_txt, 'a+')\n",
    "for line in total_data:\n",
    "    total_file.write(line)\n",
    "    total_file.write('\\n')\n",
    "total_file.close()"
   ]
  },
  {
   "cell_type": "code",
   "execution_count": 16,
   "id": "ae3423bd-f9c5-4697-8880-905b489ff992",
   "metadata": {},
   "outputs": [
    {
     "name": "stdout",
     "output_type": "stream",
     "text": [
      "/hy-tmp\n"
     ]
    }
   ],
   "source": [
    "cd .."
   ]
  },
  {
   "cell_type": "code",
   "execution_count": 17,
   "id": "ed17591c-15fd-4371-a86b-b267344bc4a9",
   "metadata": {},
   "outputs": [
    {
     "name": "stdout",
     "output_type": "stream",
     "text": [
      "\u001b[0m\u001b[01;34mCode\u001b[0m/                               full_data.csv        train_data.txt\n",
      "DAIC_woz.zip                        metadata_mapped.csv  train_split.csv\n",
      "\u001b[01;34mDATA_Feature_Select_30_CNN_ResNet\u001b[0m/  test_count.csv       train_valid.txt\n",
      "dev_count.csv                       test_data.txt        valid_data.txt\n",
      "dev_split.csv                       test_split.csv\n",
      "file_count.csv                      train_count.csv\n"
     ]
    }
   ],
   "source": [
    "ls"
   ]
  },
  {
   "cell_type": "code",
   "execution_count": null,
   "id": "8d035c34-0951-4207-bfb2-aa2124131f04",
   "metadata": {},
   "outputs": [],
   "source": []
  }
 ],
 "metadata": {
  "kernelspec": {
   "display_name": "Python 3 (ipykernel)",
   "language": "python",
   "name": "python3"
  },
  "language_info": {
   "codemirror_mode": {
    "name": "ipython",
    "version": 3
   },
   "file_extension": ".py",
   "mimetype": "text/x-python",
   "name": "python",
   "nbconvert_exporter": "python",
   "pygments_lexer": "ipython3",
   "version": "3.8.10"
  }
 },
 "nbformat": 4,
 "nbformat_minor": 5
}
