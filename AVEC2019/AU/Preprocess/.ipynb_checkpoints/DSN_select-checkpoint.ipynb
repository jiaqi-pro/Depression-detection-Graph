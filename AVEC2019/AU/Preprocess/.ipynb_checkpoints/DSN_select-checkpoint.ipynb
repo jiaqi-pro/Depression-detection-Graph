{
 "cells": [
  {
   "cell_type": "code",
   "execution_count": 6,
   "id": "7610f86a-36c9-49fa-9170-4de359deabec",
   "metadata": {},
   "outputs": [],
   "source": [
    "import pandas as pd "
   ]
  },
  {
   "cell_type": "code",
   "execution_count": 7,
   "id": "c53ea6d4-bb7e-446c-a062-2652dcce3fc2",
   "metadata": {},
   "outputs": [],
   "source": [
    "data_1 = '/hy-tmp/Code/DSN_results_v2/2022-08-29-22:52:24result.txt'\n",
    "\n",
    "data_2 = '/hy-tmp/Code/DSN_results_v2/2022-08-29-20:03:08result.txt'\n"
   ]
  },
  {
   "cell_type": "code",
   "execution_count": 8,
   "id": "1643812f-3a5e-4501-bfd0-f9cf9426257a",
   "metadata": {},
   "outputs": [],
   "source": [
    "df_1 = pd.read_csv(data_1,sep = '\\t')\n",
    "\n",
    "df_2 = pd.read_csv(data_2,sep = '\\t')"
   ]
  },
  {
   "cell_type": "code",
   "execution_count": 9,
   "id": "bd33f58d-ade1-4651-9c41-23cf32b0dad0",
   "metadata": {},
   "outputs": [
    {
     "data": {
      "text/html": [
       "<div>\n",
       "<style scoped>\n",
       "    .dataframe tbody tr th:only-of-type {\n",
       "        vertical-align: middle;\n",
       "    }\n",
       "\n",
       "    .dataframe tbody tr th {\n",
       "        vertical-align: top;\n",
       "    }\n",
       "\n",
       "    .dataframe thead th {\n",
       "        text-align: right;\n",
       "    }\n",
       "</style>\n",
       "<table border=\"1\" class=\"dataframe\">\n",
       "  <thead>\n",
       "    <tr style=\"text-align: right;\">\n",
       "      <th></th>\n",
       "      <th>epoch</th>\n",
       "      <th>test_rmse</th>\n",
       "      <th>test_pcc</th>\n",
       "      <th>test_ccc</th>\n",
       "    </tr>\n",
       "  </thead>\n",
       "  <tbody>\n",
       "    <tr>\n",
       "      <th>2571</th>\n",
       "      <td>2571</td>\n",
       "      <td>7.00226</td>\n",
       "      <td>0.25654</td>\n",
       "      <td>0.155282</td>\n",
       "    </tr>\n",
       "  </tbody>\n",
       "</table>\n",
       "</div>"
      ],
      "text/plain": [
       "      epoch  test_rmse  test_pcc  test_ccc\n",
       "2571   2571    7.00226   0.25654  0.155282"
      ]
     },
     "execution_count": 9,
     "metadata": {},
     "output_type": "execute_result"
    }
   ],
   "source": [
    "df_1[df_1.test_ccc == df_1.test_ccc.max()]"
   ]
  },
  {
   "cell_type": "code",
   "execution_count": 10,
   "id": "840396b1-aee7-41e5-b6cb-87daf9a71365",
   "metadata": {},
   "outputs": [
    {
     "data": {
      "text/html": [
       "<div>\n",
       "<style scoped>\n",
       "    .dataframe tbody tr th:only-of-type {\n",
       "        vertical-align: middle;\n",
       "    }\n",
       "\n",
       "    .dataframe tbody tr th {\n",
       "        vertical-align: top;\n",
       "    }\n",
       "\n",
       "    .dataframe thead th {\n",
       "        text-align: right;\n",
       "    }\n",
       "</style>\n",
       "<table border=\"1\" class=\"dataframe\">\n",
       "  <thead>\n",
       "    <tr style=\"text-align: right;\">\n",
       "      <th></th>\n",
       "      <th>epoch</th>\n",
       "      <th>test_rmse</th>\n",
       "      <th>test_pcc</th>\n",
       "      <th>test_ccc</th>\n",
       "    </tr>\n",
       "  </thead>\n",
       "  <tbody>\n",
       "    <tr>\n",
       "      <th>754</th>\n",
       "      <td>754</td>\n",
       "      <td>6.97199</td>\n",
       "      <td>0.210663</td>\n",
       "      <td>0.126633</td>\n",
       "    </tr>\n",
       "  </tbody>\n",
       "</table>\n",
       "</div>"
      ],
      "text/plain": [
       "     epoch  test_rmse  test_pcc  test_ccc\n",
       "754    754    6.97199  0.210663  0.126633"
      ]
     },
     "execution_count": 10,
     "metadata": {},
     "output_type": "execute_result"
    }
   ],
   "source": [
    "df_2[df_2.test_ccc == df_2.test_ccc.max()]"
   ]
  },
  {
   "cell_type": "code",
   "execution_count": null,
   "id": "a40c2166-59c0-49bf-9950-4cedd98a404f",
   "metadata": {},
   "outputs": [],
   "source": []
  }
 ],
 "metadata": {
  "kernelspec": {
   "display_name": "Python 3 (ipykernel)",
   "language": "python",
   "name": "python3"
  },
  "language_info": {
   "codemirror_mode": {
    "name": "ipython",
    "version": 3
   },
   "file_extension": ".py",
   "mimetype": "text/x-python",
   "name": "python",
   "nbconvert_exporter": "python",
   "pygments_lexer": "ipython3",
   "version": "3.8.10"
  }
 },
 "nbformat": 4,
 "nbformat_minor": 5
}
